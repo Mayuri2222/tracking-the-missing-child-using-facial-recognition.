{
  "nbformat": 4,
  "nbformat_minor": 0,
  "metadata": {
    "colab": {
      "provenance": []
    },
    "kernelspec": {
      "name": "python3",
      "display_name": "Python 3"
    },
    "language_info": {
      "name": "python"
    }
  },
  "cells": [
    {
      "cell_type": "code",
      "execution_count": null,
      "metadata": {
        "id": "lErvv1OASGME"
      },
      "outputs": [],
      "source": [
        "import cv2\n",
        "import face_recognition\n",
        "\n",
        "# Load the reference image\n",
        "reference_image = face_recognition.load_image_file(\"boy.jpeg\")\n",
        "face_cascade = cv2.CascadeClassifier('haarcascade_frontalface_default.xml')\n",
        "gray = cv2.cvtColor(reference_image, cv2.COLOR_BGR2GRAY)\n",
        "\n",
        "# Get the face encoding of the reference image\n",
        "reference_encoding = face_recognition.face_encodings(reference_image)[0]\n",
        "\n",
        "# Initialize the webcam\n",
        "cap = cv2.VideoCapture(0)\n",
        "\n",
        "while True:\n",
        "    # Read a frame from the webcam\n",
        "    ret, frame = cap.read()\n",
        "    rgb = cv2.cvtColor(frame, cv2.COLOR_BGR2RGB)\n",
        "\n",
        "    # Find all the faces in the frame\n",
        "    face_locations = face_recognition.face_locations(frame)\n",
        "    face_encodings = face_recognition.face_encodings(frame, face_locations)\n",
        "\n",
        "    for face_encoding in face_encodings:\n",
        "        # Compare the face encoding with the reference encoding\n",
        "        match = face_recognition.compare_faces([reference_encoding], face_encoding)\n",
        "        faces = face_cascade.detectMultiScale(rgb, scaleFactor=1.3, minNeighbors=5)\n",
        "\n",
        "\n",
        "        if match[0]:\n",
        "            # Perform desired action\n",
        "            for (x, y, w, h) in faces:\n",
        "        # Draw a rectangle around the face\n",
        "                color = (0, 255, 255) # in BGR\n",
        "                stroke = 5\n",
        "                cv2.rectangle(frame, (x, y), ( x+w, y+h), color, stroke)\n",
        "\n",
        "            print(\"Face match found!\")\n",
        "\n",
        "    # Display the frame\n",
        "    cv2.imshow('frame',frame)\n",
        "\n",
        "    # Exit loop if 'q' key is pressed\n",
        "    if cv2.waitKey(1) & 0xFF == ord('q'):\n",
        "        break\n",
        "\n",
        "# Release the webcam and close the window\n",
        "cap.release()\n",
        "cv2.destroyAllWindows()"
      ]
    }
  ]
}